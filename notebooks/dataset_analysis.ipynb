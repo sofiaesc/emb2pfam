{
 "cells": [
  {
   "cell_type": "markdown",
   "metadata": {},
   "source": [
    "## Domain len distribution"
   ]
  },
  {
   "cell_type": "code",
   "execution_count": 22,
   "metadata": {},
   "outputs": [
    {
     "data": {
      "text/html": [
       "<div>\n",
       "<style scoped>\n",
       "    .dataframe tbody tr th:only-of-type {\n",
       "        vertical-align: middle;\n",
       "    }\n",
       "\n",
       "    .dataframe tbody tr th {\n",
       "        vertical-align: top;\n",
       "    }\n",
       "\n",
       "    .dataframe thead th {\n",
       "        text-align: right;\n",
       "    }\n",
       "</style>\n",
       "<table border=\"1\" class=\"dataframe\">\n",
       "  <thead>\n",
       "    <tr style=\"text-align: right;\">\n",
       "      <th></th>\n",
       "      <th>family_id</th>\n",
       "      <th>sequence_name</th>\n",
       "      <th>family_accession</th>\n",
       "      <th>aligned_sequence</th>\n",
       "      <th>sequence</th>\n",
       "    </tr>\n",
       "  </thead>\n",
       "  <tbody>\n",
       "    <tr>\n",
       "      <th>0</th>\n",
       "      <td>zf-HYPF</td>\n",
       "      <td>Q0PAP5_CAMJE/108-140</td>\n",
       "      <td>PF07503.12</td>\n",
       "      <td>.CKECKK.EFFDEKN...PRFLYPFITCTHCGPRFSII</td>\n",
       "      <td>CKECKKEFFDEKNPRFLYPFITCTHCGPRFSII</td>\n",
       "    </tr>\n",
       "    <tr>\n",
       "      <th>1</th>\n",
       "      <td>GST_N_4</td>\n",
       "      <td>A1DCP8_NEOFI/25-129</td>\n",
       "      <td>PF17172.4</td>\n",
       "      <td>PFVTKLEARLRFGNIP...YRTEQGAI.....PKAPRGKVPYV......</td>\n",
       "      <td>PFVTKLEARLRFGNIPYRTEQGAIPKAPRGKVPYVSIQDGEQPPQT...</td>\n",
       "    </tr>\n",
       "    <tr>\n",
       "      <th>2</th>\n",
       "      <td>LacAB_rpiB</td>\n",
       "      <td>R5V2D8_9FIRM/3-139</td>\n",
       "      <td>PF02502.18</td>\n",
       "      <td>IWIGCDHAGYPMKLEV....LA.ML.......QE...Q.GY...T....</td>\n",
       "      <td>IWIGCDHAGYPMKLEVLAMLQEQGYTVEDMGCDGSRADYPEIAAAV...</td>\n",
       "    </tr>\n",
       "    <tr>\n",
       "      <th>3</th>\n",
       "      <td>Lipase_GDSL</td>\n",
       "      <td>O04702_DAUCA/33-364</td>\n",
       "      <td>PF00657.22</td>\n",
       "      <td>IFNFGDANSDTGAFAAWFFGNPPFFGQSYFNGSAGRVSD..........</td>\n",
       "      <td>IFNFGDANSDTGAFAAWFFGNPPFFGQSYFNGSAGRVSDGRLLIDF...</td>\n",
       "    </tr>\n",
       "    <tr>\n",
       "      <th>4</th>\n",
       "      <td>TilS_C</td>\n",
       "      <td>TILS_BURPS/408-482</td>\n",
       "      <td>PF11734.8</td>\n",
       "      <td>LRACAR...AGGERMRT..RQ....GGPGRTLKNLFQERGVPAWQR...</td>\n",
       "      <td>LRACARAGGERMRTRQGGPGRTLKNLFQERGVPAWQRDVPLLYVGE...</td>\n",
       "    </tr>\n",
       "    <tr>\n",
       "      <th>...</th>\n",
       "      <td>...</td>\n",
       "      <td>...</td>\n",
       "      <td>...</td>\n",
       "      <td>...</td>\n",
       "      <td>...</td>\n",
       "    </tr>\n",
       "    <tr>\n",
       "      <th>12570</th>\n",
       "      <td>DUF3755</td>\n",
       "      <td>B9SW75_RICCO/192-225</td>\n",
       "      <td>PF12579.8</td>\n",
       "      <td>TMQLQENIGLLCQTRDNILKIMNE.......MKD.MPELMKR</td>\n",
       "      <td>TMQLQENIGLLCQTRDNILKIMNEMKDMPELMKR</td>\n",
       "    </tr>\n",
       "    <tr>\n",
       "      <th>12571</th>\n",
       "      <td>YjbR</td>\n",
       "      <td>C3PEH2_CORA7/25-116</td>\n",
       "      <td>PF04237.13</td>\n",
       "      <td>MELPG.AA..LTHP.F...G..P.....DWDVF.....KVR....G...</td>\n",
       "      <td>MELPGAALTHPFGPDWDVFKVRGKVFLLLTAVTGKHQAILKAEPLD...</td>\n",
       "    </tr>\n",
       "    <tr>\n",
       "      <th>12572</th>\n",
       "      <td>TetR_C_33</td>\n",
       "      <td>A0A0A6UEJ9_ACTUT/93-194</td>\n",
       "      <td>PF13305.6</td>\n",
       "      <td>LPAAAGAYVRYVARTGAGLPV.IY.....AAELYQ..............</td>\n",
       "      <td>LPAAAGAYVRYVARTGAGLPVIYAAELYQVEDDARREHTRALMTTM...</td>\n",
       "    </tr>\n",
       "    <tr>\n",
       "      <th>12573</th>\n",
       "      <td>FIST_C</td>\n",
       "      <td>C6BU94_DESAD/212-349</td>\n",
       "      <td>PF10442.9</td>\n",
       "      <td>AFSIYREVI.....................REHSGKYITPENFSHI...</td>\n",
       "      <td>AFSIYREVIREHSGKYITPENFSHIAMSYPFGISSMCSDPIVRDPV...</td>\n",
       "    </tr>\n",
       "    <tr>\n",
       "      <th>12574</th>\n",
       "      <td>DUF870</td>\n",
       "      <td>E3N4Y8_CAERE/27-134</td>\n",
       "      <td>PF05912.11</td>\n",
       "      <td>..RFHCDTQAG..TWWCGTLLVTVQNPRNGFNMTYRP.SIFC.KIG...</td>\n",
       "      <td>RFHCDTQAGTWWCGTLLVTVQNPRNGFNMTYRPSIFCKIGRDDTLK...</td>\n",
       "    </tr>\n",
       "  </tbody>\n",
       "</table>\n",
       "<p>1339083 rows × 5 columns</p>\n",
       "</div>"
      ],
      "text/plain": [
       "         family_id            sequence_name family_accession  \\\n",
       "0          zf-HYPF     Q0PAP5_CAMJE/108-140       PF07503.12   \n",
       "1          GST_N_4      A1DCP8_NEOFI/25-129        PF17172.4   \n",
       "2       LacAB_rpiB       R5V2D8_9FIRM/3-139       PF02502.18   \n",
       "3      Lipase_GDSL      O04702_DAUCA/33-364       PF00657.22   \n",
       "4           TilS_C       TILS_BURPS/408-482        PF11734.8   \n",
       "...            ...                      ...              ...   \n",
       "12570      DUF3755     B9SW75_RICCO/192-225        PF12579.8   \n",
       "12571         YjbR      C3PEH2_CORA7/25-116       PF04237.13   \n",
       "12572    TetR_C_33  A0A0A6UEJ9_ACTUT/93-194        PF13305.6   \n",
       "12573       FIST_C     C6BU94_DESAD/212-349        PF10442.9   \n",
       "12574       DUF870      E3N4Y8_CAERE/27-134       PF05912.11   \n",
       "\n",
       "                                        aligned_sequence  \\\n",
       "0                 .CKECKK.EFFDEKN...PRFLYPFITCTHCGPRFSII   \n",
       "1      PFVTKLEARLRFGNIP...YRTEQGAI.....PKAPRGKVPYV......   \n",
       "2      IWIGCDHAGYPMKLEV....LA.ML.......QE...Q.GY...T....   \n",
       "3      IFNFGDANSDTGAFAAWFFGNPPFFGQSYFNGSAGRVSD..........   \n",
       "4      LRACAR...AGGERMRT..RQ....GGPGRTLKNLFQERGVPAWQR...   \n",
       "...                                                  ...   \n",
       "12570         TMQLQENIGLLCQTRDNILKIMNE.......MKD.MPELMKR   \n",
       "12571  MELPG.AA..LTHP.F...G..P.....DWDVF.....KVR....G...   \n",
       "12572  LPAAAGAYVRYVARTGAGLPV.IY.....AAELYQ..............   \n",
       "12573  AFSIYREVI.....................REHSGKYITPENFSHI...   \n",
       "12574  ..RFHCDTQAG..TWWCGTLLVTVQNPRNGFNMTYRP.SIFC.KIG...   \n",
       "\n",
       "                                                sequence  \n",
       "0                      CKECKKEFFDEKNPRFLYPFITCTHCGPRFSII  \n",
       "1      PFVTKLEARLRFGNIPYRTEQGAIPKAPRGKVPYVSIQDGEQPPQT...  \n",
       "2      IWIGCDHAGYPMKLEVLAMLQEQGYTVEDMGCDGSRADYPEIAAAV...  \n",
       "3      IFNFGDANSDTGAFAAWFFGNPPFFGQSYFNGSAGRVSDGRLLIDF...  \n",
       "4      LRACARAGGERMRTRQGGPGRTLKNLFQERGVPAWQRDVPLLYVGE...  \n",
       "...                                                  ...  \n",
       "12570                 TMQLQENIGLLCQTRDNILKIMNEMKDMPELMKR  \n",
       "12571  MELPGAALTHPFGPDWDVFKVRGKVFLLLTAVTGKHQAILKAEPLD...  \n",
       "12572  LPAAAGAYVRYVARTGAGLPVIYAAELYQVEDDARREHTRALMTTM...  \n",
       "12573  AFSIYREVIREHSGKYITPENFSHIAMSYPFGISSMCSDPIVRDPV...  \n",
       "12574  RFHCDTQAGTWWCGTLLVTVQNPRNGFNMTYRPSIFCKIGRDDTLK...  \n",
       "\n",
       "[1339083 rows x 5 columns]"
      ]
     },
     "execution_count": 22,
     "metadata": {},
     "output_type": "execute_result"
    }
   ],
   "source": [
    "import sys\n",
    "import pandas as pd \n",
    "sys.path.append('../')\n",
    "\n",
    "from utils import read_original_data\n",
    "data = None\n",
    "for part in ['dev', 'train', 'test']:\n",
    "    df = read_original_data('../../shared_insync/emb2PFam/data/Random_data/', part)\n",
    "    if data is None:\n",
    "        data = df\n",
    "    else:\n",
    "        data = pd.concat((data, df))\n",
    "    \n",
    "data"
   ]
  },
  {
   "cell_type": "code",
   "execution_count": 23,
   "metadata": {},
   "outputs": [
    {
     "name": "stdout",
     "output_type": "stream",
     "text": [
      "proportion len<512 0.98, len<256 0.85\n"
     ]
    },
    {
     "data": {
      "image/png": "[encoded data removed]",
      "text/plain": [
       "<Figure size 1080x360 with 1 Axes>"
      ]
     },
     "metadata": {
      "needs_background": "light"
     },
     "output_type": "display_data"
    }
   ],
   "source": [
    "data['len'] = data.sequence.str.len()\n",
    "data.len.hist(bins=100, figsize=(15, 5))\n",
    "print(f'proportion len<512 {(data.len<512).sum()/len(data):.2f}, len<256 {(data.len<256).sum()/len(data):.2f}')"
   ]
  },
  {
   "cell_type": "markdown",
   "metadata": {},
   "source": [
    "## Pfam seed vs full"
   ]
  },
  {
   "cell_type": "code",
   "execution_count": 24,
   "metadata": {},
   "outputs": [],
   "source": [
    "pfam_full = pd.read_csv(\"../../shared_insync/emb2PFam/data/Pfam-A_Full+Seed.csv\")\n",
    "pfam_full\n",
    "\n",
    "pfam100 = pd.read_csv(\"../../shared_insync/emb2PFam/data/Pfam_subset/Pfam100_train.csv\")"
   ]
  },
  {
   "cell_type": "code",
   "execution_count": 25,
   "metadata": {},
   "outputs": [
    {
     "data": {
      "text/plain": [
       "family_id                                              Ala_racemase_C\n",
       "sequence_name                                    F9D487_PREDD/699-822\n",
       "family_accession                                           PF00842.21\n",
       "domain_sequence     VSTLKTTILQLREVKAGDTVGYSRKGAIARDSLIAAIPIGYADGLN...\n",
       "sequence            MTYTIEKVTTLIGARRYGDRDANVGFLLTDSRSLCFPEETLFFALK...\n",
       "start                                                           698.0\n",
       "end                                                             822.0\n",
       "Name: 80863, dtype: object"
      ]
     },
     "execution_count": 25,
     "metadata": {},
     "output_type": "execute_result"
    }
   ],
   "source": [
    "k = 80863 # take one with some length. \n",
    "\n",
    "# Pfam reports 4 families (mur ligase start & middle, alinine racemase C & N)\n",
    "# https://www.ebi.ac.uk/interpro/protein/unreviewed/F9D487/\n",
    "\n",
    "pfam100.iloc[80863] # only reports Ala_racemase_C as one of the 100 most common fammilies."
   ]
  },
  {
   "cell_type": "code",
   "execution_count": 26,
   "metadata": {},
   "outputs": [],
   "source": [
    "import sys \n",
    "sys.path.append(\"../\")\n",
    "from utils import read_original_data\n",
    "\n",
    "data = read_original_data(\"../../shared_insync/emb2PFam/data/Random_data/\", 'train')\n",
    "data = pd.concat((data, read_original_data(\"../../shared_insync/emb2PFam/data/Random_data/\", 'dev')))\n",
    "data = pd.concat((data, read_original_data(\"../../shared_insync/emb2PFam/data/Random_data/\", 'test')))\n"
   ]
  },
  {
   "cell_type": "code",
   "execution_count": 27,
   "metadata": {},
   "outputs": [
    {
     "data": {
      "text/html": [
       "<div>\n",
       "<style scoped>\n",
       "    .dataframe tbody tr th:only-of-type {\n",
       "        vertical-align: middle;\n",
       "    }\n",
       "\n",
       "    .dataframe tbody tr th {\n",
       "        vertical-align: top;\n",
       "    }\n",
       "\n",
       "    .dataframe thead th {\n",
       "        text-align: right;\n",
       "    }\n",
       "</style>\n",
       "<table border=\"1\" class=\"dataframe\">\n",
       "  <thead>\n",
       "    <tr style=\"text-align: right;\">\n",
       "      <th></th>\n",
       "      <th>family_id</th>\n",
       "      <th>sequence_name</th>\n",
       "      <th>family_accession</th>\n",
       "      <th>aligned_sequence</th>\n",
       "      <th>sequence</th>\n",
       "    </tr>\n",
       "  </thead>\n",
       "  <tbody>\n",
       "    <tr>\n",
       "      <th>13453</th>\n",
       "      <td>Ala_racemase_C</td>\n",
       "      <td>F9D487_PREDD/699-822</td>\n",
       "      <td>PF00842.21</td>\n",
       "      <td>VSTLKTTILQLREV.KAGD.T..VGYSRKG.AIAR.D.SLIAAIPI...</td>\n",
       "      <td>VSTLKTTILQLREVKAGDTVGYSRKGAIARDSLIAAIPIGYADGLN...</td>\n",
       "    </tr>\n",
       "  </tbody>\n",
       "</table>\n",
       "</div>"
      ],
      "text/plain": [
       "            family_id         sequence_name family_accession  \\\n",
       "13453  Ala_racemase_C  F9D487_PREDD/699-822       PF00842.21   \n",
       "\n",
       "                                        aligned_sequence  \\\n",
       "13453  VSTLKTTILQLREV.KAGD.T..VGYSRKG.AIAR.D.SLIAAIPI...   \n",
       "\n",
       "                                                sequence  \n",
       "13453  VSTLKTTILQLREVKAGDTVGYSRKGAIARDSLIAAIPIGYADGLN...  "
      ]
     },
     "execution_count": 27,
     "metadata": {},
     "output_type": "execute_result"
    }
   ],
   "source": [
    "data[data.sequence_name.str.contains('F9D487_PREDD')] # same as pfam100"
   ]
  },
  {
   "cell_type": "code",
   "execution_count": 29,
   "metadata": {},
   "outputs": [
    {
     "data": {
      "text/html": [
       "<div>\n",
       "<style scoped>\n",
       "    .dataframe tbody tr th:only-of-type {\n",
       "        vertical-align: middle;\n",
       "    }\n",
       "\n",
       "    .dataframe tbody tr th {\n",
       "        vertical-align: top;\n",
       "    }\n",
       "\n",
       "    .dataframe thead th {\n",
       "        text-align: right;\n",
       "    }\n",
       "</style>\n",
       "<table border=\"1\" class=\"dataframe\">\n",
       "  <thead>\n",
       "    <tr style=\"text-align: right;\">\n",
       "      <th></th>\n",
       "      <th>PID</th>\n",
       "      <th>Inicio</th>\n",
       "      <th>Fin</th>\n",
       "      <th>PF</th>\n",
       "      <th>Seed</th>\n",
       "    </tr>\n",
       "  </thead>\n",
       "  <tbody>\n",
       "    <tr>\n",
       "      <th>52235</th>\n",
       "      <td>F9D487_PREDD</td>\n",
       "      <td>699</td>\n",
       "      <td>822</td>\n",
       "      <td>PF00842</td>\n",
       "      <td>1.0</td>\n",
       "    </tr>\n",
       "    <tr>\n",
       "      <th>1442906</th>\n",
       "      <td>F9D487_PREDD</td>\n",
       "      <td>468</td>\n",
       "      <td>690</td>\n",
       "      <td>PF01168</td>\n",
       "      <td>0.0</td>\n",
       "    </tr>\n",
       "    <tr>\n",
       "      <th>1442907</th>\n",
       "      <td>F9D487_PREDD</td>\n",
       "      <td>23</td>\n",
       "      <td>103</td>\n",
       "      <td>PF01225</td>\n",
       "      <td>0.0</td>\n",
       "    </tr>\n",
       "    <tr>\n",
       "      <th>1442908</th>\n",
       "      <td>F9D487_PREDD</td>\n",
       "      <td>113</td>\n",
       "      <td>300</td>\n",
       "      <td>PF08245</td>\n",
       "      <td>0.0</td>\n",
       "    </tr>\n",
       "  </tbody>\n",
       "</table>\n",
       "</div>"
      ],
      "text/plain": [
       "                  PID  Inicio  Fin       PF  Seed\n",
       "52235    F9D487_PREDD     699  822  PF00842   1.0\n",
       "1442906  F9D487_PREDD     468  690  PF01168   0.0\n",
       "1442907  F9D487_PREDD      23  103  PF01225   0.0\n",
       "1442908  F9D487_PREDD     113  300  PF08245   0.0"
      ]
     },
     "execution_count": 29,
     "metadata": {},
     "output_type": "execute_result"
    }
   ],
   "source": [
    "pfam_full[pfam_full.PID == 'F9D487_PREDD'] # all annotations are there, only one is seed    "
   ]
  },
  {
   "attachments": {},
   "cell_type": "markdown",
   "metadata": {},
   "source": [
    "## PFam100 v32\n"
   ]
  },
  {
   "cell_type": "code",
   "execution_count": 7,
   "metadata": {},
   "outputs": [
    {
     "data": {
      "text/html": [
       "<div>\n",
       "<style scoped>\n",
       "    .dataframe tbody tr th:only-of-type {\n",
       "        vertical-align: middle;\n",
       "    }\n",
       "\n",
       "    .dataframe tbody tr th {\n",
       "        vertical-align: top;\n",
       "    }\n",
       "\n",
       "    .dataframe thead th {\n",
       "        text-align: right;\n",
       "    }\n",
       "</style>\n",
       "<table border=\"1\" class=\"dataframe\">\n",
       "  <thead>\n",
       "    <tr style=\"text-align: right;\">\n",
       "      <th></th>\n",
       "      <th>Inicio</th>\n",
       "      <th>Fin</th>\n",
       "      <th>PF</th>\n",
       "      <th>Seed</th>\n",
       "    </tr>\n",
       "    <tr>\n",
       "      <th>PID</th>\n",
       "      <th></th>\n",
       "      <th></th>\n",
       "      <th></th>\n",
       "      <th></th>\n",
       "    </tr>\n",
       "  </thead>\n",
       "  <tbody>\n",
       "    <tr>\n",
       "      <th>36010_ASFM2</th>\n",
       "      <td>1</td>\n",
       "      <td>1</td>\n",
       "      <td>1</td>\n",
       "      <td>1</td>\n",
       "    </tr>\n",
       "    <tr>\n",
       "      <th>PUTR_BACSU</th>\n",
       "      <td>1</td>\n",
       "      <td>1</td>\n",
       "      <td>1</td>\n",
       "      <td>1</td>\n",
       "    </tr>\n",
       "    <tr>\n",
       "      <th>PURL_WOLSU</th>\n",
       "      <td>1</td>\n",
       "      <td>1</td>\n",
       "      <td>1</td>\n",
       "      <td>1</td>\n",
       "    </tr>\n",
       "    <tr>\n",
       "      <th>PURL_THEEB</th>\n",
       "      <td>1</td>\n",
       "      <td>1</td>\n",
       "      <td>1</td>\n",
       "      <td>1</td>\n",
       "    </tr>\n",
       "    <tr>\n",
       "      <th>PURL_SYNJB</th>\n",
       "      <td>1</td>\n",
       "      <td>1</td>\n",
       "      <td>1</td>\n",
       "      <td>1</td>\n",
       "    </tr>\n",
       "    <tr>\n",
       "      <th>...</th>\n",
       "      <td>...</td>\n",
       "      <td>...</td>\n",
       "      <td>...</td>\n",
       "      <td>...</td>\n",
       "    </tr>\n",
       "    <tr>\n",
       "      <th>E2A377_CAMFO</th>\n",
       "      <td>14</td>\n",
       "      <td>14</td>\n",
       "      <td>14</td>\n",
       "      <td>14</td>\n",
       "    </tr>\n",
       "    <tr>\n",
       "      <th>MKKA_DICDI</th>\n",
       "      <td>17</td>\n",
       "      <td>17</td>\n",
       "      <td>17</td>\n",
       "      <td>17</td>\n",
       "    </tr>\n",
       "    <tr>\n",
       "      <th>UTP13_YEAST</th>\n",
       "      <td>17</td>\n",
       "      <td>17</td>\n",
       "      <td>17</td>\n",
       "      <td>17</td>\n",
       "    </tr>\n",
       "    <tr>\n",
       "      <th>O83807_TREPA</th>\n",
       "      <td>19</td>\n",
       "      <td>19</td>\n",
       "      <td>19</td>\n",
       "      <td>19</td>\n",
       "    </tr>\n",
       "    <tr>\n",
       "      <th>Q17343_CAEEL</th>\n",
       "      <td>20</td>\n",
       "      <td>20</td>\n",
       "      <td>20</td>\n",
       "      <td>20</td>\n",
       "    </tr>\n",
       "  </tbody>\n",
       "</table>\n",
       "<p>87925 rows × 4 columns</p>\n",
       "</div>"
      ],
      "text/plain": [
       "              Inicio  Fin  PF  Seed\n",
       "PID                                \n",
       "36010_ASFM2        1    1   1     1\n",
       "PUTR_BACSU         1    1   1     1\n",
       "PURL_WOLSU         1    1   1     1\n",
       "PURL_THEEB         1    1   1     1\n",
       "PURL_SYNJB         1    1   1     1\n",
       "...              ...  ...  ..   ...\n",
       "E2A377_CAMFO      14   14  14    14\n",
       "MKKA_DICDI        17   17  17    17\n",
       "UTP13_YEAST       17   17  17    17\n",
       "O83807_TREPA      19   19  19    19\n",
       "Q17343_CAEEL      20   20  20    20\n",
       "\n",
       "[87925 rows x 4 columns]"
      ]
     },
     "execution_count": 7,
     "metadata": {},
     "output_type": "execute_result"
    }
   ],
   "source": [
    "import pandas as pd\n",
    "data = pd.read_csv(\"../Pfam100v32_train.csv\")\n",
    "data.groupby(\"PID\").count().sort_values(by=\"Seed\")"
   ]
  },
  {
   "attachments": {},
   "cell_type": "markdown",
   "metadata": {},
   "source": [
    "### Overlap in seed-full"
   ]
  },
  {
   "cell_type": "code",
   "execution_count": 59,
   "metadata": {},
   "outputs": [
    {
     "name": "stdout",
     "output_type": "stream",
     "text": [
      "Number of seeds 108434\n",
      "Number of not seeds 37867\n",
      "Not seed that matches with seeds up to 10% error 15296\n"
     ]
    }
   ],
   "source": [
    "import pandas as pd \n",
    "import numpy as np\n",
    "\n",
    "dataset = pd.concat((pd.read_csv(\"../../shared_insync/emb2PFam/data/Pfam_subset/Pfam100v32_train.csv\"),\n",
    "pd.read_csv(\"../../shared_insync/emb2PFam/data/Pfam_subset/Pfam100v32_dev.csv\"),\n",
    "pd.read_csv(\"../../shared_insync/emb2PFam/data/Pfam_subset/Pfam100v32_test.csv\")))\n",
    "\n",
    "#dataset = pd.read_csv(\"../../shared_insync/emb2PFam/data/Pfam_subset/Pfam100v32_test.csv\")\n",
    "\n",
    "matching_ind = []\n",
    "\n",
    "for pid in dataset.PID.unique():\n",
    "    seeds = dataset[(dataset.PID==pid) & (dataset.Seed==1)]\n",
    "    not_seeds = dataset[(dataset.PID==pid) & (dataset.Seed==0)]\n",
    "    for k in range(len(not_seeds)):\n",
    "        item_not_seed = not_seeds.iloc[k]\n",
    "        matching_seed = seeds[seeds.PF == item_not_seed.PF]\n",
    "        # Check if matching fams are overlaping in inicio fin\n",
    "        for k in range(matching_seed.shape[0]):\n",
    "            if (np.abs(matching_seed.iloc[k].Inicio - item_not_seed.Inicio)/matching_seed.iloc[k].Inicio < 0.1) and (np.abs(matching_seed.iloc[k].Fin - item_not_seed.Fin)/matching_seed.iloc[k].Fin < 0.1):\n",
    "                matching_ind.append(item_not_seed.name)\n",
    "                break \n",
    "\n",
    "     \n",
    "print(\"Number of seeds\", dataset[dataset.Seed==1].shape[0])\n",
    "print(\"Number of not seeds\", dataset[dataset.Seed==0].shape[0])\n",
    "print(\"Not seed that matches with seeds up to 10% error\", len(matching_ind))\n"
   ]
  },
  {
   "attachments": {},
   "cell_type": "markdown",
   "metadata": {},
   "source": [
    "### Adding less frequent domains\n",
    "In this first stage, we add families that are unfrequent but have a number of seed and full\n",
    "(predicted by HMM) samples"
   ]
  },
  {
   "cell_type": "code",
   "execution_count": 1,
   "metadata": {},
   "outputs": [
    {
     "name": "stdout",
     "output_type": "stream",
     "text": [
      "(2649767, 5)\n"
     ]
    }
   ],
   "source": [
    "\"\"\"Generación de dataset pfam 100 con particiones random, para verificar que funcione el approach\"\"\"\n",
    "import pandas as pd\n",
    "from Bio import SeqIO\n",
    "\n",
    "DEVICE = \"cuda\"\n",
    "EMB2PFAM_PATH = \"../../shared_insync/emb2PFam/\"\n",
    "DATA_DIR = f\"{EMB2PFAM_PATH}/data/\"\n",
    "PFAM_FULL_PATH = \"../../shared_insync/emb2PFam/data/Pfam-A_Full+Seed_v32.csv\"\n",
    "\n",
    "# complete protein sequences\n",
    "sequences = {}\n",
    "for item in SeqIO.parse(f\"{DATA_DIR}Complete_sequences/Pfam-A_seed_completeseq_v32.fasta\", \"fasta\"):\n",
    "    sequences[item.name.split(\"|\")[0]] = str(item.seq)\n",
    "\n",
    "# seed+full domain tags\n",
    "dataset = pd.read_csv(PFAM_FULL_PATH)\n",
    "print(dataset.shape)\n",
    "\n",
    "# Pfam100: subset of 100 most common families from seed entries\n",
    "categories_pfam100 = dataset[dataset.Seed==1].groupby(\"PF\")[\"PF\"].count().sort_values(ascending=False)[:100].index.tolist()\n",
    "\n"
   ]
  },
  {
   "cell_type": "code",
   "execution_count": 2,
   "metadata": {},
   "outputs": [
    {
     "data": {
      "text/plain": [
       "PF\n",
       "PF00232    24\n",
       "PF00295    23\n",
       "PF00519    21\n",
       "PF01001    23\n",
       "PF01050    22\n",
       "           ..\n",
       "PF18650    28\n",
       "PF18779    21\n",
       "PF18837    26\n",
       "PF18842    24\n",
       "PF18868    27\n",
       "Name: PF, Length: 101, dtype: int64"
      ]
     },
     "execution_count": 2,
     "metadata": {},
     "output_type": "execute_result"
    }
   ],
   "source": [
    "from tqdm import tqdm\n",
    "# The 100 least common have only 1 sample in seed. Drop all families that have very few seed and full examples\n",
    "\n",
    "categories = dataset.groupby(\"PF\")[\"PF\"].count().sort_values(ascending=True)\n",
    "\n",
    "\n",
    "pfam_unfreq = []\n",
    "for PF in categories[categories > 20].index:\n",
    "    sample = dataset[dataset.PF == PF]\n",
    "    # discard samples with too few seeds or too few full\n",
    "    if sample.Seed.sum() < 10:\n",
    "        continue\n",
    "    if (sample.Seed==0).sum() < 10:\n",
    "        continue\n",
    "\n",
    "    if len(pfam_unfreq) > 100:\n",
    "        break\n",
    "    pfam_unfreq.append(PF)\n",
    "    \n",
    "dataset[dataset.PF.isin(pfam_unfreq)].groupby(\"PF\")[\"PF\"].count()"
   ]
  },
  {
   "cell_type": "code",
   "execution_count": 3,
   "metadata": {},
   "outputs": [
    {
     "name": "stdout",
     "output_type": "stream",
     "text": [
      "(2504, 5)\n"
     ]
    },
    {
     "data": {
      "text/plain": [
       "PF\n",
       "PF09312    28\n",
       "PF18650    28\n",
       "PF07304    28\n",
       "PF07022    28\n",
       "PF10412    28\n",
       "           ..\n",
       "PF00519    21\n",
       "PF18779    21\n",
       "PF17170    21\n",
       "PF03291    21\n",
       "PF18188    21\n",
       "Name: PF, Length: 101, dtype: int64"
      ]
     },
     "execution_count": 3,
     "metadata": {},
     "output_type": "execute_result"
    }
   ],
   "source": [
    "dataset_unfrequent = dataset[(dataset.PF.isin(pfam_unfreq))]\n",
    "print(dataset_unfrequent.shape)\n",
    "\n",
    "with open(\"categories_unfreq.txt\", \"w\") as fout:\n",
    "    for item in pfam_unfreq:\n",
    "        fout.write(item + \"\\n\")\n",
    "\n",
    "dataset_unfrequent.groupby(\"PF\")[\"PF\"].count().sort_values(ascending=False)"
   ]
  },
  {
   "cell_type": "code",
   "execution_count": 8,
   "metadata": {},
   "outputs": [
    {
     "data": {
      "text/plain": [
       "201"
      ]
     },
     "execution_count": 8,
     "metadata": {},
     "output_type": "execute_result"
    }
   ],
   "source": [
    "categories = pfam_unfreq + categories_pfam100\n",
    "len(set(categories))"
   ]
  },
  {
   "cell_type": "code",
   "execution_count": 9,
   "metadata": {},
   "outputs": [
    {
     "data": {
      "text/html": [
       "<div>\n",
       "<style scoped>\n",
       "    .dataframe tbody tr th:only-of-type {\n",
       "        vertical-align: middle;\n",
       "    }\n",
       "\n",
       "    .dataframe tbody tr th {\n",
       "        vertical-align: top;\n",
       "    }\n",
       "\n",
       "    .dataframe thead th {\n",
       "        text-align: right;\n",
       "    }\n",
       "</style>\n",
       "<table border=\"1\" class=\"dataframe\">\n",
       "  <thead>\n",
       "    <tr style=\"text-align: right;\">\n",
       "      <th></th>\n",
       "      <th>PID</th>\n",
       "      <th>Inicio</th>\n",
       "      <th>Fin</th>\n",
       "      <th>PF</th>\n",
       "      <th>Seed</th>\n",
       "    </tr>\n",
       "  </thead>\n",
       "  <tbody>\n",
       "    <tr>\n",
       "      <th>4414</th>\n",
       "      <td>A9G0B1_SORC5</td>\n",
       "      <td>180</td>\n",
       "      <td>276</td>\n",
       "      <td>PF01367</td>\n",
       "      <td>1.0</td>\n",
       "    </tr>\n",
       "    <tr>\n",
       "      <th>4415</th>\n",
       "      <td>C1A3H5_GEMAT</td>\n",
       "      <td>186</td>\n",
       "      <td>282</td>\n",
       "      <td>PF01367</td>\n",
       "      <td>1.0</td>\n",
       "    </tr>\n",
       "    <tr>\n",
       "      <th>4416</th>\n",
       "      <td>W0RH33_9BACT</td>\n",
       "      <td>192</td>\n",
       "      <td>288</td>\n",
       "      <td>PF01367</td>\n",
       "      <td>1.0</td>\n",
       "    </tr>\n",
       "    <tr>\n",
       "      <th>4417</th>\n",
       "      <td>U5Q619_9BACT</td>\n",
       "      <td>175</td>\n",
       "      <td>266</td>\n",
       "      <td>PF01367</td>\n",
       "      <td>1.0</td>\n",
       "    </tr>\n",
       "    <tr>\n",
       "      <th>4418</th>\n",
       "      <td>G2LJI6_CHLTF</td>\n",
       "      <td>177</td>\n",
       "      <td>273</td>\n",
       "      <td>PF01367</td>\n",
       "      <td>1.0</td>\n",
       "    </tr>\n",
       "    <tr>\n",
       "      <th>...</th>\n",
       "      <td>...</td>\n",
       "      <td>...</td>\n",
       "      <td>...</td>\n",
       "      <td>...</td>\n",
       "      <td>...</td>\n",
       "    </tr>\n",
       "    <tr>\n",
       "      <th>2648819</th>\n",
       "      <td>C3ZX57_BRAFL</td>\n",
       "      <td>34</td>\n",
       "      <td>104</td>\n",
       "      <td>PF13927</td>\n",
       "      <td>0.0</td>\n",
       "    </tr>\n",
       "    <tr>\n",
       "      <th>2649392</th>\n",
       "      <td>G3PTH7_GASAC</td>\n",
       "      <td>111</td>\n",
       "      <td>185</td>\n",
       "      <td>PF13927</td>\n",
       "      <td>0.0</td>\n",
       "    </tr>\n",
       "    <tr>\n",
       "      <th>2649441</th>\n",
       "      <td>H2KU22_CLOSI</td>\n",
       "      <td>108</td>\n",
       "      <td>182</td>\n",
       "      <td>PF13927</td>\n",
       "      <td>0.0</td>\n",
       "    </tr>\n",
       "    <tr>\n",
       "      <th>2649465</th>\n",
       "      <td>T1IHT4_STRMM</td>\n",
       "      <td>135</td>\n",
       "      <td>212</td>\n",
       "      <td>PF13927</td>\n",
       "      <td>0.0</td>\n",
       "    </tr>\n",
       "    <tr>\n",
       "      <th>2649658</th>\n",
       "      <td>T1IAG1_RHOPR</td>\n",
       "      <td>725</td>\n",
       "      <td>757</td>\n",
       "      <td>PF00023</td>\n",
       "      <td>0.0</td>\n",
       "    </tr>\n",
       "  </tbody>\n",
       "</table>\n",
       "<p>164673 rows × 5 columns</p>\n",
       "</div>"
      ],
      "text/plain": [
       "                  PID  Inicio  Fin       PF  Seed\n",
       "4414     A9G0B1_SORC5     180  276  PF01367   1.0\n",
       "4415     C1A3H5_GEMAT     186  282  PF01367   1.0\n",
       "4416     W0RH33_9BACT     192  288  PF01367   1.0\n",
       "4417     U5Q619_9BACT     175  266  PF01367   1.0\n",
       "4418     G2LJI6_CHLTF     177  273  PF01367   1.0\n",
       "...               ...     ...  ...      ...   ...\n",
       "2648819  C3ZX57_BRAFL      34  104  PF13927   0.0\n",
       "2649392  G3PTH7_GASAC     111  185  PF13927   0.0\n",
       "2649441  H2KU22_CLOSI     108  182  PF13927   0.0\n",
       "2649465  T1IHT4_STRMM     135  212  PF13927   0.0\n",
       "2649658  T1IAG1_RHOPR     725  757  PF00023   0.0\n",
       "\n",
       "[164673 rows x 5 columns]"
      ]
     },
     "execution_count": 9,
     "metadata": {},
     "output_type": "execute_result"
    }
   ],
   "source": [
    "from sklearn.model_selection import train_test_split\n",
    "\n",
    "dataset_pfam200 = dataset[dataset.PF.isin(categories)]\n",
    "dataset_pfam200\n",
    "\n"
   ]
  },
  {
   "cell_type": "code",
   "execution_count": 13,
   "metadata": {},
   "outputs": [],
   "source": [
    "with open(\"categories_pfam200.txt\", \"w\") as fout:\n",
    "    for item in categories:\n",
    "        fout.write(item + \"\\n\")"
   ]
  }
 ],
 "metadata": {
  "kernelspec": {
   "display_name": "pfam",
   "language": "python",
   "name": "pfam"
  },
  "language_info": {
   "codemirror_mode": {
    "name": "ipython",
    "version": 3
   },
   "file_extension": ".py",
   "mimetype": "text/x-python",
   "name": "python",
   "nbconvert_exporter": "python",
   "pygments_lexer": "ipython3",
   "version": "3.11.1"
  },
  "orig_nbformat": 4
 },
 "nbformat": 4,
 "nbformat_minor": 2
}
